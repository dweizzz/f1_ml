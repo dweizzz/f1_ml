{
 "cells": [
  {
   "cell_type": "code",
   "execution_count": 1,
   "id": "8759b54d",
   "metadata": {},
   "outputs": [],
   "source": [
    "weather_warm=False\n",
    "weather_cold=False\n",
    "weather_dry=False\n",
    "weather_wet=False\n",
    "weather_cloudy=False"
   ]
  },
  {
   "cell_type": "code",
   "execution_count": 2,
   "id": "8deec5a7",
   "metadata": {},
   "outputs": [],
   "source": [
    "import pandas as pd\n",
    "import numpy as np\n",
    "from bs4 import BeautifulSoup\n",
    "from requests import get"
   ]
  },
  {
   "cell_type": "code",
   "execution_count": 3,
   "id": "70bbacc9",
   "metadata": {},
   "outputs": [],
   "source": [
    "url = \"https://www.formula1.com/en/latest/article.whats-the-weather-forecast-for-the-2023-saudi-arabian-grand-prix.3OigMCURMEjtvJT1oL0Nqs.html\"\n",
    "\n",
    "response = get(url)\n"
   ]
  },
  {
   "cell_type": "code",
   "execution_count": 4,
   "id": "b8d40ff3",
   "metadata": {},
   "outputs": [
    {
     "name": "stdout",
     "output_type": "stream",
     "text": [
      "<Response [200]>\n"
     ]
    }
   ],
   "source": [
    "print(response)"
   ]
  },
  {
   "cell_type": "code",
   "execution_count": 5,
   "id": "dee9e690",
   "metadata": {},
   "outputs": [],
   "source": [
    "soup=BeautifulSoup(response.text, 'html.parser')\n",
    "result = soup.find_all(\"div\", {\"class\":\"f1-article--rich-text\"})"
   ]
  },
  {
   "cell_type": "code",
   "execution_count": 6,
   "id": "7cd91cbe",
   "metadata": {},
   "outputs": [
    {
     "name": "stdout",
     "output_type": "stream",
     "text": [
      "\n",
      "The weather forecast for the 2023 Saudi Arabian Grand Prix\n",
      "FRIDAY, MARCH 17 â FP1 AND FP2 WEATHER\n",
      "Conditions: Sunny and dry with light to moderate north-westerly seabreeze with gusts of up to 35kph in the afternoon. FP1: 26Â°C FP2: 23Â°C\n",
      "Maximum temperature expected: 28 Celsius\n",
      "Minimum temperature expected: 20 Celsius\n",
      "Chance of rain: 0%\n",
      "SATURDAY, MARCH 18 â FP3 AND QUALIFYING WEATHER\n",
      "Conditions: Sunny and dry all day. Light to moderate north-westerly sea breeze with gusts of up to 30kph in the afternoon. FP3: 27Â°C Q: 25Â°C\n",
      "Maximum temperature expected: 29 Celsius\n",
      "Minimum temperature expected: 21 Celsius\n",
      "Chance of rain: 0%\n",
      "SUNDAY, MARCH 19 â RACE WEATHER\n",
      "Conditions: Sunny all day. Light to moderate north-westerly sea breeze with gusts of up to 30kph in the afternoon. RACE: 25Â°C\n",
      "Maximum temperature expected: 29 Celsius\n",
      "Minimum temperature expected: 22 Celsius\n",
      "Chance of rain: 0%\n",
      "\n"
     ]
    }
   ],
   "source": [
    "parseString=list(result)[1].text\n",
    "print(parseString)"
   ]
  },
  {
   "cell_type": "code",
   "execution_count": null,
   "id": "8e4cab8c",
   "metadata": {},
   "outputs": [],
   "source": []
  },
  {
   "cell_type": "code",
   "execution_count": 7,
   "id": "c0a980a5",
   "metadata": {},
   "outputs": [],
   "source": [
    "maxTemp = parseString[parseString.find(\"Maximum temperature expected\")+30]+parseString[parseString.find(\"Maximum temperature expected\")+31]"
   ]
  },
  {
   "cell_type": "code",
   "execution_count": 8,
   "id": "df1defcd",
   "metadata": {},
   "outputs": [
    {
     "name": "stdout",
     "output_type": "stream",
     "text": [
      "28\n"
     ]
    }
   ],
   "source": [
    "print(maxTemp)"
   ]
  },
  {
   "cell_type": "code",
   "execution_count": 9,
   "id": "127f9338",
   "metadata": {},
   "outputs": [],
   "source": [
    "minTemp = parseString[parseString.find(\"Minimum temperature expected\")+30]+parseString[parseString.find(\"Minimum temperature expected\")+31]"
   ]
  },
  {
   "cell_type": "code",
   "execution_count": 10,
   "id": "fbc4a106",
   "metadata": {},
   "outputs": [
    {
     "name": "stdout",
     "output_type": "stream",
     "text": [
      "20\n"
     ]
    }
   ],
   "source": [
    "print(minTemp)"
   ]
  },
  {
   "cell_type": "code",
   "execution_count": 11,
   "id": "05651c5b",
   "metadata": {},
   "outputs": [],
   "source": [
    "max=int(maxTemp)\n",
    "min=int(minTemp)"
   ]
  },
  {
   "cell_type": "code",
   "execution_count": 14,
   "id": "ca2195e7",
   "metadata": {},
   "outputs": [],
   "source": [
    "if(min>10):\n",
    "    weather_warm=True\n",
    "    weather_cold=False\n",
    "if(max>15):\n",
    "    weather_warm=True\n",
    "    weather_cold=False\n",
    "if(parseString.find('dry')!=-1):\n",
    "    weather_dry=True\n",
    "    weather_wet=False"
   ]
  },
  {
   "cell_type": "code",
   "execution_count": null,
   "id": "8eb95412",
   "metadata": {},
   "outputs": [],
   "source": []
  }
 ],
 "metadata": {
  "kernelspec": {
   "display_name": "Python 3 (ipykernel)",
   "language": "python",
   "name": "python3"
  },
  "language_info": {
   "codemirror_mode": {
    "name": "ipython",
    "version": 3
   },
   "file_extension": ".py",
   "mimetype": "text/x-python",
   "name": "python",
   "nbconvert_exporter": "python",
   "pygments_lexer": "ipython3",
   "version": "3.7.0"
  }
 },
 "nbformat": 4,
 "nbformat_minor": 5
}
