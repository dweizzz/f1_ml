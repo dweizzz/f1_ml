{
 "cells": [
  {
   "cell_type": "code",
   "execution_count": 2,
   "id": "9e52def3-da45-4512-a0f0-7f896bf9d4d0",
   "metadata": {},
   "outputs": [],
   "source": [
    "import pandas as pd\n",
    "df = pd.read_csv('BettingOdds.csv')\n"
   ]
  },
  {
   "cell_type": "code",
   "execution_count": 3,
   "id": "23a833eb-a86b-4aca-8d9f-89d7bdc3b326",
   "metadata": {},
   "outputs": [
    {
     "data": {
      "text/plain": [
       "['Unnamed: 0',\n",
       " 'Odds To Win 2021 Emilia Romagna GP (4/18/21)',\n",
       " 'Odds To Win 2021 F1 Portuguese GP (3/28/21)',\n",
       " 'Odds To Win 2021 F1 Spanish GP (5/9/21)',\n",
       " 'Odds To Win 2021 F1 Monaco GP (3/28/21)',\n",
       " 'Odds To Win 2021 F1 World Championship (3/28/21)',\n",
       " 'Odds To Win 2021 F1 Azerbaijan GP (6/6/21)',\n",
       " 'Odds To Win 2021 F1 French GP (6/20/21)',\n",
       " 'Odds To Win 2021 F1 Austrian GP (6/26/21)',\n",
       " 'Odds To Win 2021 F1 Austrian GP (7/4/21)',\n",
       " 'Odds To Win 2021 F1 British GP (7/18/21)',\n",
       " 'Odds To Win 2021 F1 Hungarian GP (8/1/21)',\n",
       " 'Odds To Win 2021 F1 Belgium GP (8/29/21)',\n",
       " 'Odds To Win 2021 F1 Dutch GP (9/5/21)',\n",
       " 'Odds to Win 2021 F1 Italian GP (9/12/2021)',\n",
       " 'Odds to Win 2021 F1 Russian GP (9/12/2021)',\n",
       " 'Odds to Win 2021 F1 Turkish GP (10/10/2021)',\n",
       " 'Odds to Win 2021 F1 U.S. GP (10/24/2021)',\n",
       " 'Odds to Win 2021 F1 Mexico City GP (11/5/2021)',\n",
       " 'Odds to Win 2021 F1 Abu Dhabi GP (12/12/2021)',\n",
       " '2022 F1 BAHRAIN GP BETTING ODDS',\n",
       " '2022 F1 SAUDI ARABIAN GP BETTING ODDS',\n",
       " '2022 F1 AUSTRALIAN GP BETTING ODDS',\n",
       " '2022 F1 EMILIA ROMAGNA GP BETTING ODDS',\n",
       " '2022 F1 MIAMI GP BETTING ODDS',\n",
       " '2022 F1 SPANISH GP BETTING ODDS',\n",
       " '2022 F1 MONACO GP BETTING ODDS',\n",
       " '2022 F1 AZERBAIJAN GP BETTING ODDS',\n",
       " '2022 F1 CANADIAN GP BETTING ODDS',\n",
       " '2022 F1 BRITISH GP BETTING ODDS',\n",
       " '2022 F1 AUSTRIAN GP BETTING ODDS',\n",
       " '2022 F1 FRENCH GP BETTING ODDS',\n",
       " '2022 F1 HUNGARIAN GP BETTING ODDS',\n",
       " '2022 F1 BELGIAN GP BETTING ODDS',\n",
       " '2022 F1 DUTCH GP BETTING ODDS',\n",
       " '2022 F1 ITALIAN GP BETTING ODDS',\n",
       " '2022 F1 SINGAPORE GP BETTING ODDS',\n",
       " '2022 F1 JAPANESE GP BETTING ODDS',\n",
       " '2022 F1 U.S. GP BETTING ODDS']"
      ]
     },
     "execution_count": 3,
     "metadata": {},
     "output_type": "execute_result"
    }
   ],
   "source": [
    "list(df)"
   ]
  },
  {
   "cell_type": "code",
   "execution_count": null,
   "id": "9a5ddefb-2e71-439c-af00-7b7bb8174581",
   "metadata": {},
   "outputs": [],
   "source": []
  }
 ],
 "metadata": {
  "kernelspec": {
   "display_name": "Python 3 (ipykernel)",
   "language": "python",
   "name": "python3"
  },
  "language_info": {
   "codemirror_mode": {
    "name": "ipython",
    "version": 3
   },
   "file_extension": ".py",
   "mimetype": "text/x-python",
   "name": "python",
   "nbconvert_exporter": "python",
   "pygments_lexer": "ipython3",
   "version": "3.9.12"
  }
 },
 "nbformat": 4,
 "nbformat_minor": 5
}
