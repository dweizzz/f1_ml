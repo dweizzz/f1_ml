{
 "cells": [
  {
   "cell_type": "code",
   "execution_count": 2,
   "metadata": {},
   "outputs": [],
   "source": [
    "import pandas as pd\n",
    "import numpy as np\n"
   ]
  },
  {
   "cell_type": "code",
   "execution_count": 3,
   "metadata": {},
   "outputs": [
    {
     "name": "stdout",
     "output_type": "stream",
     "text": [
      "FULL_F1_DF.csv           cleaning2.ipynb          more_cols_less_rows.csv\n",
      "Fake Data.ipynb          cleaning3.ipynb          race1.csv\n",
      "README.md                final_cleaned.csv        result.csv\n",
      "cleaning.ipynb           final_df213.csv\n"
     ]
    }
   ],
   "source": [
    "%ls"
   ]
  },
  {
   "cell_type": "code",
   "execution_count": 4,
   "metadata": {},
   "outputs": [],
   "source": [
    "df=pd.read_csv('final_df213.csv')"
   ]
  },
  {
   "cell_type": "code",
   "execution_count": 5,
   "metadata": {},
   "outputs": [
    {
     "data": {
      "text/html": [
       "<div>\n",
       "<style scoped>\n",
       "    .dataframe tbody tr th:only-of-type {\n",
       "        vertical-align: middle;\n",
       "    }\n",
       "\n",
       "    .dataframe tbody tr th {\n",
       "        vertical-align: top;\n",
       "    }\n",
       "\n",
       "    .dataframe thead th {\n",
       "        text-align: right;\n",
       "    }\n",
       "</style>\n",
       "<table border=\"1\" class=\"dataframe\">\n",
       "  <thead>\n",
       "    <tr style=\"text-align: right;\">\n",
       "      <th></th>\n",
       "      <th>season</th>\n",
       "      <th>round</th>\n",
       "      <th>weather_warm</th>\n",
       "      <th>weather_cold</th>\n",
       "      <th>weather_dry</th>\n",
       "      <th>weather_wet</th>\n",
       "      <th>weather_cloudy</th>\n",
       "      <th>driver</th>\n",
       "      <th>grid</th>\n",
       "      <th>podium</th>\n",
       "      <th>...</th>\n",
       "      <th>constructor_tyrrell</th>\n",
       "      <th>constructor_williams</th>\n",
       "      <th>number_of_laps</th>\n",
       "      <th>circuit_length</th>\n",
       "      <th>number_of_drs</th>\n",
       "      <th>circuit_type</th>\n",
       "      <th>direction</th>\n",
       "      <th>circuit_id_miami</th>\n",
       "      <th>circuit_id_jeddah</th>\n",
       "      <th>circuit_id_qatar</th>\n",
       "    </tr>\n",
       "  </thead>\n",
       "  <tbody>\n",
       "    <tr>\n",
       "      <th>0</th>\n",
       "      <td>1992</td>\n",
       "      <td>16</td>\n",
       "      <td>False</td>\n",
       "      <td>False</td>\n",
       "      <td>False</td>\n",
       "      <td>False</td>\n",
       "      <td>True</td>\n",
       "      <td>mansell</td>\n",
       "      <td>1</td>\n",
       "      <td>20</td>\n",
       "      <td>...</td>\n",
       "      <td>0</td>\n",
       "      <td>1</td>\n",
       "      <td>81.0</td>\n",
       "      <td>3.78</td>\n",
       "      <td>3.0</td>\n",
       "      <td>street</td>\n",
       "      <td>c</td>\n",
       "      <td>0.0</td>\n",
       "      <td>0.0</td>\n",
       "      <td>0.0</td>\n",
       "    </tr>\n",
       "    <tr>\n",
       "      <th>1</th>\n",
       "      <td>1995</td>\n",
       "      <td>17</td>\n",
       "      <td>False</td>\n",
       "      <td>False</td>\n",
       "      <td>False</td>\n",
       "      <td>False</td>\n",
       "      <td>False</td>\n",
       "      <td>michael_schumacher</td>\n",
       "      <td>3</td>\n",
       "      <td>15</td>\n",
       "      <td>...</td>\n",
       "      <td>0</td>\n",
       "      <td>0</td>\n",
       "      <td>81.0</td>\n",
       "      <td>3.78</td>\n",
       "      <td>3.0</td>\n",
       "      <td>street</td>\n",
       "      <td>c</td>\n",
       "      <td>0.0</td>\n",
       "      <td>0.0</td>\n",
       "      <td>0.0</td>\n",
       "    </tr>\n",
       "    <tr>\n",
       "      <th>2</th>\n",
       "      <td>1988</td>\n",
       "      <td>16</td>\n",
       "      <td>True</td>\n",
       "      <td>False</td>\n",
       "      <td>False</td>\n",
       "      <td>False</td>\n",
       "      <td>True</td>\n",
       "      <td>senna</td>\n",
       "      <td>1</td>\n",
       "      <td>2</td>\n",
       "      <td>...</td>\n",
       "      <td>0</td>\n",
       "      <td>0</td>\n",
       "      <td>81.0</td>\n",
       "      <td>3.78</td>\n",
       "      <td>3.0</td>\n",
       "      <td>street</td>\n",
       "      <td>c</td>\n",
       "      <td>0.0</td>\n",
       "      <td>0.0</td>\n",
       "      <td>0.0</td>\n",
       "    </tr>\n",
       "    <tr>\n",
       "      <th>3</th>\n",
       "      <td>1994</td>\n",
       "      <td>16</td>\n",
       "      <td>True</td>\n",
       "      <td>False</td>\n",
       "      <td>False</td>\n",
       "      <td>False</td>\n",
       "      <td>True</td>\n",
       "      <td>michael_schumacher</td>\n",
       "      <td>2</td>\n",
       "      <td>20</td>\n",
       "      <td>...</td>\n",
       "      <td>0</td>\n",
       "      <td>0</td>\n",
       "      <td>81.0</td>\n",
       "      <td>3.78</td>\n",
       "      <td>3.0</td>\n",
       "      <td>street</td>\n",
       "      <td>c</td>\n",
       "      <td>0.0</td>\n",
       "      <td>0.0</td>\n",
       "      <td>0.0</td>\n",
       "    </tr>\n",
       "    <tr>\n",
       "      <th>4</th>\n",
       "      <td>1993</td>\n",
       "      <td>16</td>\n",
       "      <td>True</td>\n",
       "      <td>False</td>\n",
       "      <td>False</td>\n",
       "      <td>False</td>\n",
       "      <td>False</td>\n",
       "      <td>prost</td>\n",
       "      <td>2</td>\n",
       "      <td>2</td>\n",
       "      <td>...</td>\n",
       "      <td>0</td>\n",
       "      <td>1</td>\n",
       "      <td>81.0</td>\n",
       "      <td>3.78</td>\n",
       "      <td>3.0</td>\n",
       "      <td>street</td>\n",
       "      <td>c</td>\n",
       "      <td>0.0</td>\n",
       "      <td>0.0</td>\n",
       "      <td>0.0</td>\n",
       "    </tr>\n",
       "  </tbody>\n",
       "</table>\n",
       "<p>5 rows × 110 columns</p>\n",
       "</div>"
      ],
      "text/plain": [
       "   season  round  weather_warm  weather_cold  weather_dry  weather_wet  \\\n",
       "0    1992     16         False         False        False        False   \n",
       "1    1995     17         False         False        False        False   \n",
       "2    1988     16          True         False        False        False   \n",
       "3    1994     16          True         False        False        False   \n",
       "4    1993     16          True         False        False        False   \n",
       "\n",
       "   weather_cloudy              driver  grid  podium  ...  constructor_tyrrell  \\\n",
       "0            True             mansell     1      20  ...                    0   \n",
       "1           False  michael_schumacher     3      15  ...                    0   \n",
       "2            True               senna     1       2  ...                    0   \n",
       "3            True  michael_schumacher     2      20  ...                    0   \n",
       "4           False               prost     2       2  ...                    0   \n",
       "\n",
       "   constructor_williams  number_of_laps  circuit_length  number_of_drs  \\\n",
       "0                     1            81.0            3.78            3.0   \n",
       "1                     0            81.0            3.78            3.0   \n",
       "2                     0            81.0            3.78            3.0   \n",
       "3                     0            81.0            3.78            3.0   \n",
       "4                     1            81.0            3.78            3.0   \n",
       "\n",
       "   circuit_type direction  circuit_id_miami  circuit_id_jeddah  \\\n",
       "0        street         c               0.0                0.0   \n",
       "1        street         c               0.0                0.0   \n",
       "2        street         c               0.0                0.0   \n",
       "3        street         c               0.0                0.0   \n",
       "4        street         c               0.0                0.0   \n",
       "\n",
       "   circuit_id_qatar  \n",
       "0               0.0  \n",
       "1               0.0  \n",
       "2               0.0  \n",
       "3               0.0  \n",
       "4               0.0  \n",
       "\n",
       "[5 rows x 110 columns]"
      ]
     },
     "execution_count": 5,
     "metadata": {},
     "output_type": "execute_result"
    }
   ],
   "source": [
    "df.head()"
   ]
  },
  {
   "cell_type": "code",
   "execution_count": 6,
   "metadata": {},
   "outputs": [],
   "source": [
    "df[\"circuit_id_miami\"]=np.zeros(df.shape[0])"
   ]
  },
  {
   "cell_type": "code",
   "execution_count": 7,
   "metadata": {},
   "outputs": [],
   "source": [
    "df[\"circuit_id_jeddah\"]=np.zeros(df.shape[0])\n",
    "df[\"circuit_id_qatar\"]=np.zeros(df.shape[0])"
   ]
  },
  {
   "cell_type": "code",
   "execution_count": 8,
   "metadata": {},
   "outputs": [],
   "source": [
    "df.loc[(df[\"season\"] == 2022) & (df['round']==2), \"circuit_id_jeddah\"] = 1\n",
    "df.loc[(df[\"season\"] == 2022) & (df['round']==2), \"number_of_laps\"] = 50\n",
    "df.loc[(df[\"season\"] == 2022) & (df['round']==2), \"circuit_length\"] = 6.174\n",
    "df.loc[(df[\"season\"] == 2022) & (df['round']==2), \"number_of_drs\"] = 3\n",
    "df.loc[(df[\"season\"] == 2022) & (df['round']==2), \"circuit_type\"] = 'street'\n",
    "df.loc[(df[\"season\"] == 2022) & (df['round']==2), \"direction\"] = 'a'"
   ]
  },
  {
   "cell_type": "code",
   "execution_count": 9,
   "metadata": {},
   "outputs": [],
   "source": [
    "df.loc[(df[\"season\"] == 2022) & (df['round']==5), \"circuit_id_miami\"] = 1\n",
    "df.loc[(df[\"season\"] == 2022) & (df['round']==5), \"number_of_laps\"] = 57\n",
    "df.loc[(df[\"season\"] == 2022) & (df['round']==5), \"circuit_length\"] = 5.412\n",
    "df.loc[(df[\"season\"] == 2022) & (df['round']==5), \"number_of_drs\"] = 3\n",
    "df.loc[(df[\"season\"] == 2022) & (df['round']==5), \"circuit_type\"] = 'street'\n",
    "df.loc[(df[\"season\"] == 2022) & (df['round']==5), \"direction\"] = 'a'"
   ]
  },
  {
   "cell_type": "code",
   "execution_count": 10,
   "metadata": {},
   "outputs": [],
   "source": [
    "df.loc[(df[\"season\"] == 2021) & (df['round']==21), \"circuit_id_jeddah\"] = 1\n",
    "df.loc[(df[\"season\"] == 2021) & (df['round']==21), \"number_of_laps\"] = 50\n",
    "df.loc[(df[\"season\"] == 2021) & (df['round']==21), \"circuit_length\"] = 6.174\n",
    "df.loc[(df[\"season\"] == 2021) & (df['round']==21), \"number_of_drs\"] = 3\n",
    "df.loc[(df[\"season\"] == 2021) & (df['round']==21), \"circuit_type\"] = 'street'\n",
    "df.loc[(df[\"season\"] == 2021) & (df['round']==21), \"direction\"] = 'a'"
   ]
  },
  {
   "cell_type": "code",
   "execution_count": 11,
   "metadata": {},
   "outputs": [],
   "source": [
    "df.loc[(df[\"season\"] == 2021) & (df['round']==20), \"circuit_id_qatar\"] = 1\n",
    "df.loc[(df[\"season\"] == 2022) & (df['round']==20), \"number_of_laps\"] = 57\n",
    "df.loc[(df[\"season\"] == 2022) & (df['round']==20), \"circuit_length\"] = 5.38\n",
    "df.loc[(df[\"season\"] == 2022) & (df['round']==20), \"number_of_drs\"] = 1\n",
    "df.loc[(df[\"season\"] == 2022) & (df['round']==20), \"circuit_type\"] = 'race'\n",
    "df.loc[(df[\"season\"] == 2022) & (df['round']==20), \"direction\"] = 'c'"
   ]
  },
  {
   "cell_type": "code",
   "execution_count": 12,
   "metadata": {},
   "outputs": [],
   "source": [
    "df.to_csv(\"result.csv\", index=False)"
   ]
  },
  {
   "cell_type": "code",
   "execution_count": 14,
   "metadata": {},
   "outputs": [
    {
     "data": {
      "text/plain": [
       "0        1:13.732\n",
       "1        1:15.839\n",
       "2        1:17.748\n",
       "3        1:16.197\n",
       "4        1:13.807\n",
       "           ...   \n",
       "15317    1:30.423\n",
       "15318    1:30.975\n",
       "15319    1:31.020\n",
       "15320    1:31.266\n",
       "15321    1:31.325\n",
       "Name: qualifying_time, Length: 15322, dtype: object"
      ]
     },
     "execution_count": 14,
     "metadata": {},
     "output_type": "execute_result"
    }
   ],
   "source": [
    "df['qualifying_time']"
   ]
  },
  {
   "cell_type": "code",
   "execution_count": null,
   "metadata": {},
   "outputs": [],
   "source": []
  }
 ],
 "metadata": {
  "kernelspec": {
   "display_name": "Python 3",
   "language": "python",
   "name": "python3"
  },
  "language_info": {
   "codemirror_mode": {
    "name": "ipython",
    "version": 3
   },
   "file_extension": ".py",
   "mimetype": "text/x-python",
   "name": "python",
   "nbconvert_exporter": "python",
   "pygments_lexer": "ipython3",
   "version": "3.9.13"
  }
 },
 "nbformat": 4,
 "nbformat_minor": 5
}
