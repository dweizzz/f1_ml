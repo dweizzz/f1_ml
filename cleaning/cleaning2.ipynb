{
 "cells": [
  {
   "cell_type": "code",
   "execution_count": 1,
   "metadata": {},
   "outputs": [],
   "source": [
    "import pandas as pd\n",
    "import numpy as np"
   ]
  },
  {
   "cell_type": "code",
   "execution_count": 2,
   "metadata": {},
   "outputs": [],
   "source": [
    "df = pd.read_csv(\"cleaning/result.csv\")"
   ]
  },
  {
   "cell_type": "code",
   "execution_count": 3,
   "metadata": {},
   "outputs": [],
   "source": [
    "df2 = df.copy()"
   ]
  },
  {
   "cell_type": "code",
   "execution_count": 4,
   "metadata": {},
   "outputs": [],
   "source": [
    "df2.loc[df['circuit_id_qatar']==1, 'number_of_laps'] = 57"
   ]
  },
  {
   "cell_type": "code",
   "execution_count": 5,
   "metadata": {},
   "outputs": [],
   "source": [
    "df2.loc[df['circuit_id_qatar']==1, 'circuit_length'] = 5.412\n",
    "df2.loc[df['circuit_id_qatar']==1, 'number_of_drs'] = 1\n",
    "df2.loc[df['circuit_id_qatar']==1, 'circuit_type'] = 'street'\n",
    "df2.loc[df['circuit_id_qatar']==1, 'direction'] = 'a'"
   ]
  },
  {
   "cell_type": "code",
   "execution_count": null,
   "metadata": {},
   "outputs": [],
   "source": [
    "df2 = pd.concat([df2, pd.get_dummies(df2['direction'], dummy_na=True, prefix=\"direction\")], axis=1)"
   ]
  },
  {
   "cell_type": "code",
   "execution_count": null,
   "metadata": {},
   "outputs": [],
   "source": [
    "df2 = pd.concat([df2, pd.get_dummies(df2['circuit_type'], dummy_na=True, prefix=\"circuit_type\")], axis=1)"
   ]
  },
  {
   "cell_type": "code",
   "execution_count": 8,
   "metadata": {},
   "outputs": [],
   "source": [
    "df2 = df2.drop(columns=[\"direction\", \"circuit_type\"])"
   ]
  },
  {
   "cell_type": "code",
   "execution_count": 59,
   "metadata": {},
   "outputs": [],
   "source": [
    "df2['circuit_id_portugal'] = np.zeros(df2.shape[0])"
   ]
  },
  {
   "cell_type": "markdown",
   "metadata": {},
   "source": [
    "df2.loc[(df2[\"season\"] == 2021) & (df2['round']==3), \"circuit_id_portugal\"] = 1\n",
    "df2.loc[df2['circuit_id_portugal']==1, 'circuit_lenght'] = "
   ]
  },
  {
   "cell_type": "code",
   "execution_count": 29,
   "metadata": {},
   "outputs": [
    {
     "data": {
      "text/plain": [
       "constructor_renault          0\n",
       "constructor_sauber           0\n",
       "constructor_team_lotus       0\n",
       "constructor_toro_rosso       0\n",
       "constructor_toyota           0\n",
       "constructor_tyrrell          0\n",
       "constructor_williams         0\n",
       "number_of_laps             338\n",
       "circuit_length             338\n",
       "number_of_drs             1346\n",
       "circuit_type               338\n",
       "direction                 1024\n",
       "circuit_id_miami             0\n",
       "circuit_id_jeddah            0\n",
       "circuit_id_qatar             0\n",
       "dtype: int64"
      ]
     },
     "execution_count": 29,
     "metadata": {},
     "output_type": "execute_result"
    }
   ],
   "source": [
    "df2.isna().sum()[-15:]"
   ]
  },
  {
   "cell_type": "code",
   "execution_count": 10,
   "metadata": {},
   "outputs": [],
   "source": [
    "df2.to_csv(\"more_cols_less_rows.csv\")"
   ]
  },
  {
   "cell_type": "code",
   "execution_count": null,
   "metadata": {},
   "outputs": [],
   "source": []
  },
  {
   "cell_type": "code",
   "execution_count": null,
   "metadata": {},
   "outputs": [],
   "source": []
  }
 ],
 "metadata": {
  "kernelspec": {
   "display_name": "Python 3",
   "language": "python",
   "name": "python3"
  },
  "language_info": {
   "codemirror_mode": {
    "name": "ipython",
    "version": 3
   },
   "file_extension": ".py",
   "mimetype": "text/x-python",
   "name": "python",
   "nbconvert_exporter": "python",
   "pygments_lexer": "ipython3",
   "version": "3.8.5"
  }
 },
 "nbformat": 4,
 "nbformat_minor": 4
}
